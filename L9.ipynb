{
  "nbformat": 4,
  "nbformat_minor": 0,
  "metadata": {
    "colab": {
      "provenance": []
    },
    "kernelspec": {
      "name": "python3",
      "display_name": "Python 3"
    },
    "language_info": {
      "name": "python"
    }
  },
  "cells": [
    {
      "cell_type": "code",
      "execution_count": null,
      "metadata": {
        "id": "2bHY9wfX9TjK"
      },
      "outputs": [],
      "source": [
        "import numpy as np\n",
        "import pandas as pd\n",
        "import matplotlib.pyplot as plt\n",
        "import math"
      ]
    },
    {
      "cell_type": "code",
      "source": [],
      "metadata": {
        "id": "1JugwNwwLhYO"
      },
      "execution_count": null,
      "outputs": []
    },
    {
      "cell_type": "code",
      "source": [
        "de={}\n",
        "n_list=range(20)\n",
        "\n",
        "Emax=13/2\n",
        "\n",
        "for nx in n_list:\n",
        "  for ny in n_list:\n",
        "    for nz in n_list:\n",
        "      E=nx+ny+nz+3/2\n",
        "      if(E<=Emax):\n",
        "        if(E not in de.keys()):\n",
        "          de[E]=1\n",
        "\n",
        "        else:\n",
        "            de[E]+=1\n",
        "print(de)"
      ],
      "metadata": {
        "colab": {
          "base_uri": "https://localhost:8080/"
        },
        "id": "t0YNdZKiP8Wy",
        "outputId": "afe3b088-b1b9-4635-c536-bb4f09be7728"
      },
      "execution_count": null,
      "outputs": [
        {
          "output_type": "stream",
          "name": "stdout",
          "text": [
            "{1.5: 1, 2.5: 3, 3.5: 6, 4.5: 10, 5.5: 15, 6.5: 21}\n"
          ]
        }
      ]
    },
    {
      "cell_type": "code",
      "source": [
        "beta_val=[0.001,0.1,1]\n",
        "n_val=[10,50,100,1000,10000,100000]\n",
        "z_val=[]\n",
        "\n",
        "z_ideal_val=[]\n",
        "\n",
        "beta_arr=[]\n",
        "N_arr=[]\n",
        "E_arr=[]\n",
        "\n",
        "for beta in beta_val:\n",
        "\n",
        "  for e in de.keys():\n",
        "\n",
        "\n",
        "\n",
        "    for n in n_val:\n",
        "      # ideal z value\n",
        "\n",
        "      z_ideal=de[e]*(1/(1-math.exp(-beta*e)))\n",
        "      z_ideal_val.append(z_ideal)\n",
        "      E_arr.append(e)\n",
        "      # for nmean\n",
        "\n",
        "\n",
        "      z=0\n",
        "      n_m=0\n",
        "      for i in range(n):\n",
        "        z +=de[e]*math.exp(-beta*e*i)\n",
        "\n",
        "      z_val.append(z)\n",
        "      beta_arr.append(beta)\n",
        "      N_arr.append(n)\n",
        "\n",
        "data = { 'beta': beta_arr,'Energy':E_arr, 'NTotal': N_arr,'Z_approximation': z_val, 'Z_ideal':z_ideal_val}\n",
        "df = pd.DataFrame(data)\n",
        "print(df)\n",
        "df.to_csv('L9Q1.csv', index=False)"
      ],
      "metadata": {
        "colab": {
          "base_uri": "https://localhost:8080/"
        },
        "id": "OBthOE2zhtpx",
        "outputId": "97fa860c-e792-4eda-9a73-99f0b5192275"
      },
      "execution_count": null,
      "outputs": [
        {
          "output_type": "stream",
          "name": "stdout",
          "text": [
            "      beta  Energy  NTotal  Z_approximation     Z_ideal\n",
            "0    0.001     1.5      10         9.932819  667.166792\n",
            "1    0.001     1.5      50        48.207146  667.166792\n",
            "2    0.001     1.5     100        92.931012  667.166792\n",
            "3    0.001     1.5    1000       518.301759  667.166792\n",
            "4    0.001     1.5   10000       667.166588  667.166792\n",
            "..     ...     ...     ...              ...         ...\n",
            "103  1.000     6.5      50        21.031620   21.031620\n",
            "104  1.000     6.5     100        21.031620   21.031620\n",
            "105  1.000     6.5    1000        21.031620   21.031620\n",
            "106  1.000     6.5   10000        21.031620   21.031620\n",
            "107  1.000     6.5  100000        21.031620   21.031620\n",
            "\n",
            "[108 rows x 5 columns]\n"
          ]
        }
      ]
    },
    {
      "cell_type": "markdown",
      "source": [],
      "metadata": {
        "id": "7pM40nbHbdhA"
      }
    },
    {
      "cell_type": "markdown",
      "source": [
        "\n"
      ],
      "metadata": {
        "id": "Konn5IJl2kI9"
      }
    },
    {
      "cell_type": "code",
      "source": [
        "x=range(10)\n",
        "print(x)"
      ],
      "metadata": {
        "colab": {
          "base_uri": "https://localhost:8080/"
        },
        "id": "mafbYbl-ejfX",
        "outputId": "72840ce1-c5e6-49c9-ce5e-c60899e55d21"
      },
      "execution_count": null,
      "outputs": [
        {
          "output_type": "stream",
          "name": "stdout",
          "text": [
            "range(0, 10)\n"
          ]
        }
      ]
    },
    {
      "cell_type": "code",
      "source": [
        "# particle in a  3D box\n",
        "de = {}\n",
        "n_r=4\n",
        "n_list = range(-n_r, n_r)\n",
        "\n",
        "Emax = 6\n",
        "\n",
        "for nx in n_list:\n",
        "    for ny in n_list:\n",
        "      for nz in n_list:\n",
        "          E = nx**2 + ny**2+nz**2\n",
        "\n",
        "          # print(type(5.0))\n",
        "\n",
        "\n",
        "\n",
        "\n",
        "          # print(E)\n",
        "          if(E>0):\n",
        "            if E <= Emax:\n",
        "                if E not in de.keys():\n",
        "                    de[E] = 1\n",
        "                else:\n",
        "                    de[E] += 1\n",
        "\n",
        "sorted_de = dict(sorted(de.items()))  # Sort the dictionary based on keys\n",
        "print(sorted_de)\n"
      ],
      "metadata": {
        "colab": {
          "base_uri": "https://localhost:8080/"
        },
        "id": "UD4Hy-oMl8B6",
        "outputId": "76d5f9ff-3ffb-4817-ebae-0c43d0b57c64"
      },
      "execution_count": null,
      "outputs": [
        {
          "output_type": "stream",
          "name": "stdout",
          "text": [
            "{1: 6, 2: 12, 3: 8, 4: 6, 5: 24, 6: 24}\n"
          ]
        }
      ]
    },
    {
      "cell_type": "code",
      "source": [
        "# configurations\n",
        "n_r=5\n",
        "n_x=[]\n",
        "n_y=[]\n",
        "n_z=[]\n",
        "n_list = range(-n_r, n_r)\n",
        "\n",
        "Emax = 5\n",
        "\n",
        "for nx in n_list:\n",
        "    for ny in n_list:\n",
        "      for nz in n_list:\n",
        "          E = nx**2 + ny**2+nz**2\n",
        "          if E<Emax:\n",
        "            n_x.append(nx)\n",
        "            n_y.append(ny)\n",
        "            n_z.append(nz)\n",
        "\n",
        "data = { 'n_x': n_x,'n_y':n_y, 'n_z': n_z,}\n",
        "df = pd.DataFrame(data)\n",
        "print(df)\n",
        "df.to_csv('L9Q2_1.csv', index=False)"
      ],
      "metadata": {
        "id": "FboaYcnBjC2i"
      },
      "execution_count": null,
      "outputs": []
    },
    {
      "cell_type": "code",
      "source": [
        "beta_val=[0.001,0.1,1]\n",
        "n_val=[10,50,100,1000,10000,100000]\n",
        "z_val=[]\n",
        "\n",
        "z_ideal_val=[]\n",
        "\n",
        "beta_arr=[]\n",
        "N_arr=[]\n",
        "E_arr=[]\n",
        "\n",
        "for beta in beta_val:\n",
        "\n",
        "  for e in de.keys():\n",
        "\n",
        "\n",
        "\n",
        "    for n in n_val:\n",
        "      # ideal z value\n",
        "\n",
        "      z_ideal=de[e]*(1/(1-math.exp(-beta*e)))\n",
        "      z_ideal_val.append(z_ideal)\n",
        "      E_arr.append(e)\n",
        "      # for nmean\n",
        "\n",
        "\n",
        "      z=0\n",
        "      n_m=0\n",
        "      for i in range(n):\n",
        "        z +=de[e]*math.exp(-beta*e*i)\n",
        "\n",
        "      z_val.append(z)\n",
        "      beta_arr.append(beta)\n",
        "      N_arr.append(n)\n",
        "\n",
        "data = { 'beta': beta_arr,'Energy':E_arr, 'NTotal': N_arr,'Z_approximation': z_val, 'Z_ideal':z_ideal_val}\n",
        "df = pd.DataFrame(data)\n",
        "print(df)\n",
        "df.to_csv('L9Q2_b.csv', index=False)"
      ],
      "metadata": {
        "colab": {
          "base_uri": "https://localhost:8080/"
        },
        "id": "wDGyNaGTSrXi",
        "outputId": "7ac8410a-6d6d-4645-e912-876b3c4fc666"
      },
      "execution_count": null,
      "outputs": [
        {
          "output_type": "stream",
          "name": "stdout",
          "text": [
            "      beta  Energy  NTotal  Z_approximation     Z_ideal\n",
            "0    0.001       6      10       233.641390  4012.01200\n",
            "1    0.001       6      50      1039.840409  4012.01200\n",
            "2    0.001       6     100      1810.173130  4012.01200\n",
            "3    0.001       6    1000      4002.067217  4012.01200\n",
            "4    0.001       6   10000      4012.012000  4012.01200\n",
            "..     ...     ...     ...              ...         ...\n",
            "103  1.000       1      50         9.491860     9.49186\n",
            "104  1.000       1     100         9.491860     9.49186\n",
            "105  1.000       1    1000         9.491860     9.49186\n",
            "106  1.000       1   10000         9.491860     9.49186\n",
            "107  1.000       1  100000         9.491860     9.49186\n",
            "\n",
            "[108 rows x 5 columns]\n"
          ]
        }
      ]
    },
    {
      "cell_type": "code",
      "source": [
        "# hydrogen atom\n",
        "\n",
        "\n",
        "\n",
        "\n"
      ],
      "metadata": {
        "id": "SPfGYZKuoeID"
      },
      "execution_count": null,
      "outputs": []
    },
    {
      "cell_type": "code",
      "source": [
        "# ratio\n",
        "T1=300\n",
        "p1=E_info(1/T1,1)[3]\n",
        "p1=E_info(1/T1,1)[3]\n"
      ],
      "metadata": {
        "id": "UFNNrPh68blC"
      },
      "execution_count": null,
      "outputs": []
    },
    {
      "cell_type": "code",
      "source": [
        "kb= 1\n",
        "\n",
        "def E_info(t,n):\n",
        "  gn=2*n**2\n",
        "  e=-13.6/(n**2)\n",
        "  z=gn*(1-math.exp(-(1/t)*e))\n",
        "  pn=(gn*math.exp(-(1/t)*e))/100\n",
        "  return gn,e,z,pn\n",
        "\n",
        "\n",
        "temp=np.linspace(10,500,300)\n",
        "\n",
        "p_arr=[]\n",
        "t_val=[]\n",
        "for t in temp:\n",
        "  p=E_info(t,1)[3]\n",
        "  t_val.append(t)\n",
        "  p_arr.append(p)\n",
        "\n",
        "plt.plot(t_val,p_arr)\n",
        "plt.title(\"P1 vs T\")\n",
        "plt.xlabel(\"Temperature(K)\")\n",
        "plt.ylabel(\"Probability at n=1\")\n",
        "plt.show()"
      ],
      "metadata": {
        "colab": {
          "base_uri": "https://localhost:8080/",
          "height": 472
        },
        "id": "c3SZO2FArz4J",
        "outputId": "329b1eec-bc83-4681-eb17-8620ee0507a0"
      },
      "execution_count": null,
      "outputs": [
        {
          "output_type": "display_data",
          "data": {
            "text/plain": [
              "<Figure size 640x480 with 1 Axes>"
            ],
            "image/png": "[encoded data removed]"
          },
          "metadata": {}
        }
      ]
    },
    {
      "cell_type": "code",
      "source": [
        "# ratios\n",
        "# at t=300\n",
        "p1_t1=E_info(300,1)[3]\n",
        "p2_t1=E_info(300,2)[3]\n",
        "r_t1=p1_t1/p2_t1\n",
        "\n",
        "print(r_t1)\n",
        "# ratios\n",
        "# at t=600\n",
        "p1_t2=E_info(600,1)[3]\n",
        "p2_t2=E_info(6000,2)[3]\n",
        "r_t2=p1_t2/p2_t2\n",
        "print(r_t2)"
      ],
      "metadata": {
        "colab": {
          "base_uri": "https://localhost:8080/"
        },
        "id": "DbYgxvMcr8Cy",
        "outputId": "5c0c6567-5f2f-4cfd-dc38-a4bd3f8ab79e"
      },
      "execution_count": null,
      "outputs": [
        {
          "output_type": "stream",
          "name": "stdout",
          "text": [
            "0.25864615168202953\n",
            "0.2555865034900687\n"
          ]
        }
      ]
    },
    {
      "cell_type": "code",
      "source": [
        "# q4\n",
        "# MB\n",
        "N=1000\n",
        "e=0.01\n",
        "temp=np.linspace(0,500,300)\n",
        "n_mean_val=[]\n",
        "n_be=[]\n",
        "for t in temp:\n",
        "\n",
        "  n_mean=1/(1+math.exp(-(1/t)*e))\n",
        "  n_b=(1/(math.exp(-(1/t)*e)-1))+(N+1)/(1-math.exp(-(N+1)*e/t))\n",
        "  n_be.append(n_b/N)\n",
        "  n_mean_val.append(n_mean/N)\n",
        "plt.plot(temp,n_mean_val)\n",
        "plt.title(\"Nmean/N Vs KbT/e For MB statistics\")\n",
        "plt.xlabel(\"KbT/e\")\n",
        "plt.ylabel(\"Nmean/N\")\n",
        "plt.show()\n"
      ],
      "metadata": {
        "colab": {
          "base_uri": "https://localhost:8080/",
          "height": 541
        },
        "id": "l0TqRSRUZ4Ia",
        "outputId": "538ada66-f617-44dd-85e6-40377f11ca3e"
      },
      "execution_count": null,
      "outputs": [
        {
          "output_type": "stream",
          "name": "stderr",
          "text": [
            "<ipython-input-57-8b6842eaf843>:10: RuntimeWarning: divide by zero encountered in double_scalars\n",
            "  n_mean=1/(1+math.exp(-(1/t)*e))\n",
            "<ipython-input-57-8b6842eaf843>:11: RuntimeWarning: divide by zero encountered in double_scalars\n",
            "  n_b=(1/(math.exp(-(1/t)*e)-1))+(N+1)/(1-math.exp(-(N+1)*e/t))\n"
          ]
        },
        {
          "output_type": "display_data",
          "data": {
            "text/plain": [
              "<Figure size 640x480 with 1 Axes>"
            ],
            "image/png": "[encoded data removed]"
          },
          "metadata": {}
        }
      ]
    },
    {
      "cell_type": "code",
      "source": [
        "N=100\n",
        "e=1\n",
        "temp=np.linspace(10,500,300)\n",
        "n_be=[]\n",
        "for t in temp:\n",
        "\n",
        "  n_b=(1/(math.exp(-(1/t)*e)-1))+(N+1)/(1-math.exp(-(1*(N+1)/t)*e))\n",
        "\n",
        "  n_be.append(n_b/N)\n",
        "plt.plot(temp,n_be)\n",
        "plt.title(\"Nmean/N Vs KbT/e For BE statistics\")\n",
        "plt.xlabel(\"KbT/e\")\n",
        "plt.ylabel(\"Nmean/N\")\n",
        "plt.show()\n"
      ],
      "metadata": {
        "colab": {
          "base_uri": "https://localhost:8080/",
          "height": 472
        },
        "id": "clfvtoVI8dqQ",
        "outputId": "22521527-116f-47e7-cd16-ad1e32dc89ab"
      },
      "execution_count": null,
      "outputs": [
        {
          "output_type": "display_data",
          "data": {
            "text/plain": [
              "<Figure size 640x480 with 1 Axes>"
            ],
            "image/png": "[encoded data removed]"
          },
          "metadata": {}
        }
      ]
    },
    {
      "cell_type": "code",
      "source": [
        "e=1\n",
        "N=100\n",
        "t_val=[e/4,e/2,e,2*e,4*e]\n",
        "for t in t_val:\n",
        "  n_mean=1/(1+math.exp(-(1/t)*e))\n",
        "  n_N=n_mean*100/N\n",
        "  print(t,n_N,'%')"
      ],
      "metadata": {
        "colab": {
          "base_uri": "https://localhost:8080/"
        },
        "id": "ggGDleAfJV_7",
        "outputId": "6f27a5da-5e04-4308-b96d-f075a5bcb193"
      },
      "execution_count": null,
      "outputs": [
        {
          "output_type": "stream",
          "name": "stdout",
          "text": [
            "0.25 0.9820137900379085 %\n",
            "0.5 0.8807970779778823 %\n",
            "1 0.7310585786300049 %\n",
            "2 0.6224593312018546 %\n",
            "4 0.5621765008857981 %\n"
          ]
        }
      ]
    },
    {
      "cell_type": "code",
      "source": [
        "e=1\n",
        "N=100\n",
        "t_val=[e/4,e/2,e,2*e,4*e]\n",
        "for t in t_val:\n",
        "  n_b=(1/(math.exp(-(1/t)*e)-1))+(N+1)/(1-math.exp(-(1*(N+1)/t)*e))\n",
        "\n",
        "  n_N=n_b*100/N\n",
        "  print(t,n_N,'%')"
      ],
      "metadata": {
        "colab": {
          "base_uri": "https://localhost:8080/"
        },
        "id": "XQrofJD3JAE8",
        "outputId": "600afef8-5fcc-42fd-fd9c-8b4474ebcc42"
      },
      "execution_count": null,
      "outputs": [
        {
          "output_type": "stream",
          "name": "stdout",
          "text": [
            "0.25 99.98134263963622 %\n",
            "0.5 99.84348235725034 %\n",
            "1 99.41802329313069 %\n",
            "2 98.45850591746321 %\n",
            "4 96.47918833690458 %\n"
          ]
        }
      ]
    }
  ]
}